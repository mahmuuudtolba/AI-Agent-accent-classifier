{
 "cells": [
  {
   "cell_type": "markdown",
   "id": "c86597de",
   "metadata": {},
   "source": [
    "## Importing the model"
   ]
  },
  {
   "cell_type": "code",
   "execution_count": null,
   "id": "4d6dbb02",
   "metadata": {},
   "outputs": [],
   "source": [
    "# Use a pipeline as a high-level helper\n",
    "from transformers import pipeline\n",
    "\n",
    "pipe = pipeline(\"audio-classification\", model=\"dima806/multiple_accent_classification\")"
   ]
  },
  {
   "cell_type": "code",
   "execution_count": null,
   "id": "39fe5c96",
   "metadata": {},
   "outputs": [],
   "source": [
    "pipe(\"sample-000001.wav\")"
   ]
  },
  {
   "cell_type": "code",
   "execution_count": 4,
   "id": "0753e8c3",
   "metadata": {},
   "outputs": [
    {
     "name": "stderr",
     "output_type": "stream",
     "text": [
      "Downloading...\n",
      "From: https://drive.google.com/uc?id=1kuID3Eh2nNXFZ5HCr-Xgsp5Xt4ZYEFrR\n",
      "To: d:\\AI Agent accent classifier\\development_notebooks\\video.mp4\n",
      "100%|██████████| 5.15M/5.15M [00:03<00:00, 1.51MB/s]\n"
     ]
    },
    {
     "data": {
      "text/plain": [
       "'video.mp4'"
      ]
     },
     "execution_count": 4,
     "metadata": {},
     "output_type": "execute_result"
    }
   ],
   "source": [
    "import gdown\n",
    "video_url = str(\"https://drive.google.com/file/d/1kuID3Eh2nNXFZ5HCr-Xgsp5Xt4ZYEFrR/view?usp=sharing\")\n",
    "audio_path = \"audio.wav\"\n",
    "video_path = \"video.mp4\"\n",
    "gdown.download(video_url, video_path, quiet=False, fuzzy=True)"
   ]
  },
  {
   "cell_type": "code",
   "execution_count": null,
   "id": "fa41017c",
   "metadata": {},
   "outputs": [],
   "source": []
  },
  {
   "cell_type": "code",
   "execution_count": null,
   "id": "ca1b5581",
   "metadata": {},
   "outputs": [],
   "source": []
  },
  {
   "cell_type": "code",
   "execution_count": null,
   "id": "c5351124",
   "metadata": {},
   "outputs": [],
   "source": []
  },
  {
   "cell_type": "code",
   "execution_count": null,
   "id": "7bbcae69",
   "metadata": {},
   "outputs": [],
   "source": []
  },
  {
   "cell_type": "code",
   "execution_count": null,
   "id": "d5e6b8a8",
   "metadata": {},
   "outputs": [],
   "source": []
  },
  {
   "cell_type": "code",
   "execution_count": null,
   "id": "db2a488c",
   "metadata": {},
   "outputs": [],
   "source": []
  },
  {
   "cell_type": "code",
   "execution_count": null,
   "id": "f7b15760",
   "metadata": {},
   "outputs": [],
   "source": []
  }
 ],
 "metadata": {
  "kernelspec": {
   "display_name": "llms",
   "language": "python",
   "name": "python3"
  },
  "language_info": {
   "codemirror_mode": {
    "name": "ipython",
    "version": 3
   },
   "file_extension": ".py",
   "mimetype": "text/x-python",
   "name": "python",
   "nbconvert_exporter": "python",
   "pygments_lexer": "ipython3",
   "version": "3.11.11"
  }
 },
 "nbformat": 4,
 "nbformat_minor": 5
}
